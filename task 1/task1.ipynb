{
 "cells": [
  {
   "cell_type": "markdown",
   "id": "6a34b93ece095cee",
   "metadata": {},
   "source": [
    "## Задание 1.\n",
    "\n",
    "\n",
    "Написать алгоритм получения данных по вакансиям для IT-специалистов с одного из работных сайтов.\n",
    "\n",
    "\n",
    "\n",
    "Алгоритм позволяет получить информацию о количестве вакансий по направлениям Data Analyst, Data Science и Data Engineer в разрезе уровней (Junior, Middle, Senior).\n",
    "\n",
    "\n",
    "За основу можно взять как один регион (НН, Москва и т.д.)  так и несколько.\n",
    "\n",
    "\n",
    "Результат представить в табличном и/или графическом виде."
   ]
  },
  {
   "cell_type": "code",
   "id": "28b5686c8ad879eb",
   "metadata": {
    "ExecuteTime": {
     "end_time": "2024-10-09T15:35:06.429790Z",
     "start_time": "2024-10-09T15:35:05.542123Z"
    }
   },
   "source": [
    "import requests\n",
    "\n",
    "url = \"https://api.hh.ru/areas\"\n",
    "\n",
    "response = requests.get(url)\n",
    "areas = response.json()"
   ],
   "outputs": [],
   "execution_count": 34
  },
  {
   "cell_type": "code",
   "id": "e82ab6613d1033f1",
   "metadata": {
    "ExecuteTime": {
     "end_time": "2024-10-09T15:35:06.449559Z",
     "start_time": "2024-10-09T15:35:06.436823Z"
    }
   },
   "source": [
    "def get_areas_recursive(areas):\n",
    "    all_areas = {}\n",
    "    for area in areas:\n",
    "        all_areas[area.get(\"name\")] = area.get(\"id\")\n",
    "        if area.get(\"areas\"):\n",
    "            all_areas.update(get_areas_recursive(area.get(\"areas\")))\n",
    "    return all_areas\n",
    "\n",
    "all_areas = get_areas_recursive(areas)"
   ],
   "outputs": [],
   "execution_count": 35
  },
  {
   "cell_type": "code",
   "id": "96632435f5a0ad57",
   "metadata": {
    "ExecuteTime": {
     "end_time": "2024-10-09T15:35:06.483631Z",
     "start_time": "2024-10-09T15:35:06.470267Z"
    }
   },
   "source": [
    "all_areas = dict(sorted(all_areas.items(), key=lambda x: x[0]))"
   ],
   "outputs": [],
   "execution_count": 36
  },
  {
   "cell_type": "code",
   "id": "fed77009ae9fd950",
   "metadata": {
    "ExecuteTime": {
     "end_time": "2024-10-09T15:35:12.850218Z",
     "start_time": "2024-10-09T15:35:06.500996Z"
    }
   },
   "source": [
    "import ipywidgets as widgets\n",
    "import matplotlib.pyplot as plt\n",
    "\n",
    "area_id = 1\n",
    "areas_names = list(all_areas.keys())\n",
    "\n",
    "def load_vacancies(area_name):\n",
    "    global area_id\n",
    "    area_id = all_areas[area_name]\n",
    "    grades = [\"Junior\", \"Middle\", \"Senior\"]\n",
    "    work_types = [\"Data Analyst\", \"Data Science\", \"Data Engineer\"]\n",
    "    results = {}\n",
    "    \n",
    "    for work_type in work_types:\n",
    "        for grade in grades:\n",
    "            url = f\"https://api.hh.ru/vacancies?area={area_id}&text={grade} {work_type}\"\n",
    "            response = requests.get(url)\n",
    "            data = response.json()\n",
    "            if not results.get(work_type):\n",
    "                results[work_type] = {}\n",
    "            results[work_type][grade] = data.get(\"found\")\n",
    "    \n",
    "    data_found = False\n",
    "    for work_type in work_types:\n",
    "        if all(results[work_type][grade] == 0 for grade in grades):\n",
    "            print(f\"No {work_type} data found in {area_name}\")\n",
    "        else:\n",
    "            data_found = True\n",
    "            plt.title(f\"{work_type} in {area_name} by grades\")\n",
    "            plt.bar(results[work_type].keys(), results[work_type].values())\n",
    "            plt.xticks(rotation=45, ha=\"right\")\n",
    "            plt.show()\n",
    "\n",
    "    if not data_found:\n",
    "        return\n",
    "    else:\n",
    "        works = []\n",
    "        works_counts = []\n",
    "        \n",
    "        for work_type in work_types:\n",
    "            for grade in grades:\n",
    "                works.append(f\"{grade} {work_type}\")\n",
    "                works_counts.append(results[work_type][grade])\n",
    "    \n",
    "        plt.title(f\"All vacancies in {area_name} by grades\")    \n",
    "        plt.bar(works, works_counts)\n",
    "        plt.xticks(rotation=45, ha=\"right\")\n",
    "        plt.show()\n",
    "\n",
    "widgets.interact(load_vacancies, area_name=areas_names);"
   ],
   "outputs": [
    {
     "data": {
      "text/plain": [
       "interactive(children=(Dropdown(description='area_name', options=('1-й Воин', '1-я Михайловка', '1-я Семеновка'…"
      ],
      "application/vnd.jupyter.widget-view+json": {
       "version_major": 2,
       "version_minor": 0,
       "model_id": "5f093229b4254aeabd74cf429126530e"
      }
     },
     "metadata": {},
     "output_type": "display_data"
    }
   ],
   "execution_count": 37
  },
  {
   "cell_type": "code",
   "id": "bbfc02fd52a86d24",
   "metadata": {
    "ExecuteTime": {
     "end_time": "2024-10-09T15:35:12.877361Z",
     "start_time": "2024-10-09T15:35:12.873057Z"
    }
   },
   "source": [],
   "outputs": [],
   "execution_count": null
  }
 ],
 "metadata": {
  "kernelspec": {
   "display_name": "Python 3 (ipykernel)",
   "language": "python",
   "name": "python3"
  },
  "language_info": {
   "codemirror_mode": {
    "name": "ipython",
    "version": 3
   },
   "file_extension": ".py",
   "mimetype": "text/x-python",
   "name": "python",
   "nbconvert_exporter": "python",
   "pygments_lexer": "ipython3",
   "version": "3.11.5"
  }
 },
 "nbformat": 4,
 "nbformat_minor": 5
}
